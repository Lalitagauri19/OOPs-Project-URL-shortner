{
  "nbformat": 4,
  "nbformat_minor": 0,
  "metadata": {
    "colab": {
      "provenance": []
    },
    "kernelspec": {
      "name": "python3",
      "display_name": "Python 3"
    },
    "language_info": {
      "name": "python"
    }
  },
  "cells": [
    {
      "cell_type": "code",
      "source": [
        "#QUESTION1 : ANAGRAM - Given two strings s and t, return true if t is an\n",
        "# anagram\n",
        "#  of s, and false otherwise.\n",
        "\n",
        "\n",
        "\n",
        "# Example 1:\n",
        "\n",
        "# Input: s = \"anagram\", t = \"nagaram\"\n",
        "\n",
        "# Output: true\n",
        "\n",
        "# Example 2:\n",
        "\n",
        "# Input: s = \"rat\", t = \"car\"\n",
        "\n",
        "# Output: false"
      ],
      "metadata": {
        "id": "OqA7y0rYOWQR"
      },
      "execution_count": null,
      "outputs": []
    },
    {
      "cell_type": "code",
      "execution_count": null,
      "metadata": {
        "id": "oWu9fURT1pbe"
      },
      "outputs": [],
      "source": [
        "class Solution:\n",
        "    def isAnagram(self,s: str, t: str) -> bool:\n",
        "        dict1 = {}\n",
        "        dict2 = {}\n",
        "        if len(s) != len(t):\n",
        "            return False\n",
        "        else:\n",
        "            for char in s:\n",
        "                if char in dict1:\n",
        "                    dict1[char] +=1\n",
        "                else:\n",
        "                    dict1[char] =1\n",
        "            for char in t:\n",
        "                if char in dict2:\n",
        "                    dict2[char] +=1\n",
        "                else:\n",
        "                    dict2[char] =1\n",
        "            if dict1==dict2:\n",
        "                return True\n",
        "            else:\n",
        "                return False\n"
      ]
    },
    {
      "cell_type": "code",
      "source": [
        "solution = Solution()\n",
        "solution.isAnagram(\"anagram\",\"nagaram\")"
      ],
      "metadata": {
        "colab": {
          "base_uri": "https://localhost:8080/"
        },
        "id": "aOgqlUA7OEwc",
        "outputId": "430510b2-169e-49c0-a0de-9d2b34152e7b"
      },
      "execution_count": null,
      "outputs": [
        {
          "output_type": "execute_result",
          "data": {
            "text/plain": [
              "True"
            ]
          },
          "metadata": {},
          "execution_count": 22
        }
      ]
    },
    {
      "cell_type": "code",
      "source": [
        "solution.isAnagram(\"car\",\"rat\")"
      ],
      "metadata": {
        "colab": {
          "base_uri": "https://localhost:8080/"
        },
        "id": "UhTR9HU9OSIu",
        "outputId": "08a645f8-da40-48e8-823f-01d9eff49f69"
      },
      "execution_count": null,
      "outputs": [
        {
          "output_type": "execute_result",
          "data": {
            "text/plain": [
              "False"
            ]
          },
          "metadata": {},
          "execution_count": 23
        }
      ]
    },
    {
      "cell_type": "code",
      "source": [
        "#Question2 - You are given the heads of two sorted linked lists list1 and list2.\n",
        "\n",
        "# Merge the two lists into one sorted list. The list should be made by splicing together the nodes of the first two lists.\n",
        "\n",
        "# Return the head of the merged linked list."
      ],
      "metadata": {
        "id": "CBFKf0dvND_8"
      },
      "execution_count": null,
      "outputs": []
    },
    {
      "cell_type": "code",
      "source": [],
      "metadata": {
        "id": "0ymgC018WW_F"
      },
      "execution_count": null,
      "outputs": []
    }
  ]
}